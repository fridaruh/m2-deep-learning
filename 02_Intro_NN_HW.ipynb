{
 "cells": [
  {
   "cell_type": "markdown",
   "metadata": {},
   "source": [
    "# Introducción a redes neuronales\n",
    "\n",
    "## Ejercicio: Neuronas como compuertas lógicas\n",
    "En este ejercicio experimentaremos con el cómputo de neuronas. Mostraremos cómo representar funciones lógicas básicas como AND, OR y XOR empleando neuronas sencillas (o estructuras más complicadas). Finalmente al final mostraremos cómo representar las redes neuronales como una secuencia de cómputo matricial."
   ]
  },
  {
   "cell_type": "code",
   "execution_count": 36,
   "metadata": {},
   "outputs": [],
   "source": [
    "import numpy as np\n",
    "import matplotlib.pyplot as plt\n",
    "%matplotlib inline"
   ]
  },
  {
   "cell_type": "markdown",
   "metadata": {},
   "source": [
    "### Función sigmoidal:\n",
    "\n",
    "$$\n",
    "\\sigma = \\frac{1}{1 + e^{-x}}\n",
    "$$\n",
    "\n",
    "$\\sigma$ tiene un rango (0, 1). Cuando la entrada $x$ es negativa, $\\sigma$ tiene un valor cercano a 0. Cuando $x$ es positivo, $\\sigma$ tiene un valor cercano a 1. En $x=0$, $\\sigma=0.5$"
   ]
  },
  {
   "cell_type": "code",
   "execution_count": 37,
   "metadata": {},
   "outputs": [],
   "source": [
    "## Quickly define the sigmoid function\n",
    "def sigmoid(x):\n",
    "    \"\"\"Sigmoid function\"\"\"\n",
    "    return 1.0 / (1.0 + np.exp(-x))"
   ]
  },
  {
   "cell_type": "code",
   "execution_count": 38,
   "metadata": {},
   "outputs": [
    {
     "output_type": "display_data",
     "data": {
      "text/plain": "<Figure size 864x432 with 1 Axes>",
      "image/svg+xml": "<?xml version=\"1.0\" encoding=\"utf-8\" standalone=\"no\"?>\n<!DOCTYPE svg PUBLIC \"-//W3C//DTD SVG 1.1//EN\"\n  \"http://www.w3.org/Graphics/SVG/1.1/DTD/svg11.dtd\">\n<!-- Created with matplotlib (https://matplotlib.org/) -->\n<svg height=\"361.037344pt\" version=\"1.1\" viewBox=\"0 0 721.645312 361.037344\" width=\"721.645312pt\" xmlns=\"http://www.w3.org/2000/svg\" xmlns:xlink=\"http://www.w3.org/1999/xlink\">\n <metadata>\n  <rdf:RDF xmlns:cc=\"http://creativecommons.org/ns#\" xmlns:dc=\"http://purl.org/dc/elements/1.1/\" xmlns:rdf=\"http://www.w3.org/1999/02/22-rdf-syntax-ns#\">\n   <cc:Work>\n    <dc:type rdf:resource=\"http://purl.org/dc/dcmitype/StillImage\"/>\n    <dc:date>2021-04-23T10:45:55.517645</dc:date>\n    <dc:format>image/svg+xml</dc:format>\n    <dc:creator>\n     <cc:Agent>\n      <dc:title>Matplotlib v3.3.3, https://matplotlib.org/</dc:title>\n     </cc:Agent>\n    </dc:creator>\n   </cc:Work>\n  </rdf:RDF>\n </metadata>\n <defs>\n  <style type=\"text/css\">*{stroke-linecap:butt;stroke-linejoin:round;}</style>\n </defs>\n <g id=\"figure_1\">\n  <g id=\"patch_1\">\n   <path d=\"M 0 361.037344 \nL 721.645312 361.037344 \nL 721.645312 0 \nL 0 0 \nz\n\" style=\"fill:none;\"/>\n  </g>\n  <g id=\"axes_1\">\n   <g id=\"patch_2\">\n    <path d=\"M 44.845313 337.159219 \nL 714.445312 337.159219 \nL 714.445312 10.999219 \nL 44.845313 10.999219 \nz\n\" style=\"fill:#ffffff;\"/>\n   </g>\n   <g id=\"matplotlib.axis_1\">\n    <g id=\"xtick_1\">\n     <g id=\"line2d_1\">\n      <path clip-path=\"url(#pee4930fe81)\" d=\"M 75.281676 337.159219 \nL 75.281676 10.999219 \n\" style=\"fill:none;stroke:#b0b0b0;stroke-linecap:square;stroke-width:0.8;\"/>\n     </g>\n     <g id=\"line2d_2\">\n      <defs>\n       <path d=\"M 0 0 \nL 0 3.5 \n\" id=\"m8e1b5c4c23\" style=\"stroke:#000000;stroke-width:0.8;\"/>\n      </defs>\n      <g>\n       <use style=\"stroke:#000000;stroke-width:0.8;\" x=\"75.281676\" xlink:href=\"#m8e1b5c4c23\" y=\"337.159219\"/>\n      </g>\n     </g>\n     <g id=\"text_1\">\n      <!-- −10.0 -->\n      <g transform=\"translate(59.95902 351.757656)scale(0.1 -0.1)\">\n       <defs>\n        <path d=\"M 10.59375 35.5 \nL 73.1875 35.5 \nL 73.1875 27.203125 \nL 10.59375 27.203125 \nz\n\" id=\"DejaVuSans-8722\"/>\n        <path d=\"M 12.40625 8.296875 \nL 28.515625 8.296875 \nL 28.515625 63.921875 \nL 10.984375 60.40625 \nL 10.984375 69.390625 \nL 28.421875 72.90625 \nL 38.28125 72.90625 \nL 38.28125 8.296875 \nL 54.390625 8.296875 \nL 54.390625 0 \nL 12.40625 0 \nz\n\" id=\"DejaVuSans-49\"/>\n        <path d=\"M 31.78125 66.40625 \nQ 24.171875 66.40625 20.328125 58.90625 \nQ 16.5 51.421875 16.5 36.375 \nQ 16.5 21.390625 20.328125 13.890625 \nQ 24.171875 6.390625 31.78125 6.390625 \nQ 39.453125 6.390625 43.28125 13.890625 \nQ 47.125 21.390625 47.125 36.375 \nQ 47.125 51.421875 43.28125 58.90625 \nQ 39.453125 66.40625 31.78125 66.40625 \nz\nM 31.78125 74.21875 \nQ 44.046875 74.21875 50.515625 64.515625 \nQ 56.984375 54.828125 56.984375 36.375 \nQ 56.984375 17.96875 50.515625 8.265625 \nQ 44.046875 -1.421875 31.78125 -1.421875 \nQ 19.53125 -1.421875 13.0625 8.265625 \nQ 6.59375 17.96875 6.59375 36.375 \nQ 6.59375 54.828125 13.0625 64.515625 \nQ 19.53125 74.21875 31.78125 74.21875 \nz\n\" id=\"DejaVuSans-48\"/>\n        <path d=\"M 10.6875 12.40625 \nL 21 12.40625 \nL 21 0 \nL 10.6875 0 \nz\n\" id=\"DejaVuSans-46\"/>\n       </defs>\n       <use xlink:href=\"#DejaVuSans-8722\"/>\n       <use x=\"83.789062\" xlink:href=\"#DejaVuSans-49\"/>\n       <use x=\"147.412109\" xlink:href=\"#DejaVuSans-48\"/>\n       <use x=\"211.035156\" xlink:href=\"#DejaVuSans-46\"/>\n       <use x=\"242.822266\" xlink:href=\"#DejaVuSans-48\"/>\n      </g>\n     </g>\n    </g>\n    <g id=\"xtick_2\">\n     <g id=\"line2d_3\">\n      <path clip-path=\"url(#pee4930fe81)\" d=\"M 151.372585 337.159219 \nL 151.372585 10.999219 \n\" style=\"fill:none;stroke:#b0b0b0;stroke-linecap:square;stroke-width:0.8;\"/>\n     </g>\n     <g id=\"line2d_4\">\n      <g>\n       <use style=\"stroke:#000000;stroke-width:0.8;\" x=\"151.372585\" xlink:href=\"#m8e1b5c4c23\" y=\"337.159219\"/>\n      </g>\n     </g>\n     <g id=\"text_2\">\n      <!-- −7.5 -->\n      <g transform=\"translate(139.231179 351.757656)scale(0.1 -0.1)\">\n       <defs>\n        <path d=\"M 8.203125 72.90625 \nL 55.078125 72.90625 \nL 55.078125 68.703125 \nL 28.609375 0 \nL 18.3125 0 \nL 43.21875 64.59375 \nL 8.203125 64.59375 \nz\n\" id=\"DejaVuSans-55\"/>\n        <path d=\"M 10.796875 72.90625 \nL 49.515625 72.90625 \nL 49.515625 64.59375 \nL 19.828125 64.59375 \nL 19.828125 46.734375 \nQ 21.96875 47.46875 24.109375 47.828125 \nQ 26.265625 48.1875 28.421875 48.1875 \nQ 40.625 48.1875 47.75 41.5 \nQ 54.890625 34.8125 54.890625 23.390625 \nQ 54.890625 11.625 47.5625 5.09375 \nQ 40.234375 -1.421875 26.90625 -1.421875 \nQ 22.3125 -1.421875 17.546875 -0.640625 \nQ 12.796875 0.140625 7.71875 1.703125 \nL 7.71875 11.625 \nQ 12.109375 9.234375 16.796875 8.0625 \nQ 21.484375 6.890625 26.703125 6.890625 \nQ 35.15625 6.890625 40.078125 11.328125 \nQ 45.015625 15.765625 45.015625 23.390625 \nQ 45.015625 31 40.078125 35.4375 \nQ 35.15625 39.890625 26.703125 39.890625 \nQ 22.75 39.890625 18.8125 39.015625 \nQ 14.890625 38.140625 10.796875 36.28125 \nz\n\" id=\"DejaVuSans-53\"/>\n       </defs>\n       <use xlink:href=\"#DejaVuSans-8722\"/>\n       <use x=\"83.789062\" xlink:href=\"#DejaVuSans-55\"/>\n       <use x=\"147.412109\" xlink:href=\"#DejaVuSans-46\"/>\n       <use x=\"179.199219\" xlink:href=\"#DejaVuSans-53\"/>\n      </g>\n     </g>\n    </g>\n    <g id=\"xtick_3\">\n     <g id=\"line2d_5\">\n      <path clip-path=\"url(#pee4930fe81)\" d=\"M 227.463494 337.159219 \nL 227.463494 10.999219 \n\" style=\"fill:none;stroke:#b0b0b0;stroke-linecap:square;stroke-width:0.8;\"/>\n     </g>\n     <g id=\"line2d_6\">\n      <g>\n       <use style=\"stroke:#000000;stroke-width:0.8;\" x=\"227.463494\" xlink:href=\"#m8e1b5c4c23\" y=\"337.159219\"/>\n      </g>\n     </g>\n     <g id=\"text_3\">\n      <!-- −5.0 -->\n      <g transform=\"translate(215.322088 351.757656)scale(0.1 -0.1)\">\n       <use xlink:href=\"#DejaVuSans-8722\"/>\n       <use x=\"83.789062\" xlink:href=\"#DejaVuSans-53\"/>\n       <use x=\"147.412109\" xlink:href=\"#DejaVuSans-46\"/>\n       <use x=\"179.199219\" xlink:href=\"#DejaVuSans-48\"/>\n      </g>\n     </g>\n    </g>\n    <g id=\"xtick_4\">\n     <g id=\"line2d_7\">\n      <path clip-path=\"url(#pee4930fe81)\" d=\"M 303.554403 337.159219 \nL 303.554403 10.999219 \n\" style=\"fill:none;stroke:#b0b0b0;stroke-linecap:square;stroke-width:0.8;\"/>\n     </g>\n     <g id=\"line2d_8\">\n      <g>\n       <use style=\"stroke:#000000;stroke-width:0.8;\" x=\"303.554403\" xlink:href=\"#m8e1b5c4c23\" y=\"337.159219\"/>\n      </g>\n     </g>\n     <g id=\"text_4\">\n      <!-- −2.5 -->\n      <g transform=\"translate(291.412997 351.757656)scale(0.1 -0.1)\">\n       <defs>\n        <path d=\"M 19.1875 8.296875 \nL 53.609375 8.296875 \nL 53.609375 0 \nL 7.328125 0 \nL 7.328125 8.296875 \nQ 12.9375 14.109375 22.625 23.890625 \nQ 32.328125 33.6875 34.8125 36.53125 \nQ 39.546875 41.84375 41.421875 45.53125 \nQ 43.3125 49.21875 43.3125 52.78125 \nQ 43.3125 58.59375 39.234375 62.25 \nQ 35.15625 65.921875 28.609375 65.921875 \nQ 23.96875 65.921875 18.8125 64.3125 \nQ 13.671875 62.703125 7.8125 59.421875 \nL 7.8125 69.390625 \nQ 13.765625 71.78125 18.9375 73 \nQ 24.125 74.21875 28.421875 74.21875 \nQ 39.75 74.21875 46.484375 68.546875 \nQ 53.21875 62.890625 53.21875 53.421875 \nQ 53.21875 48.921875 51.53125 44.890625 \nQ 49.859375 40.875 45.40625 35.40625 \nQ 44.1875 33.984375 37.640625 27.21875 \nQ 31.109375 20.453125 19.1875 8.296875 \nz\n\" id=\"DejaVuSans-50\"/>\n       </defs>\n       <use xlink:href=\"#DejaVuSans-8722\"/>\n       <use x=\"83.789062\" xlink:href=\"#DejaVuSans-50\"/>\n       <use x=\"147.412109\" xlink:href=\"#DejaVuSans-46\"/>\n       <use x=\"179.199219\" xlink:href=\"#DejaVuSans-53\"/>\n      </g>\n     </g>\n    </g>\n    <g id=\"xtick_5\">\n     <g id=\"line2d_9\">\n      <path clip-path=\"url(#pee4930fe81)\" d=\"M 379.645313 337.159219 \nL 379.645313 10.999219 \n\" style=\"fill:none;stroke:#b0b0b0;stroke-linecap:square;stroke-width:0.8;\"/>\n     </g>\n     <g id=\"line2d_10\">\n      <g>\n       <use style=\"stroke:#000000;stroke-width:0.8;\" x=\"379.645313\" xlink:href=\"#m8e1b5c4c23\" y=\"337.159219\"/>\n      </g>\n     </g>\n     <g id=\"text_5\">\n      <!-- 0.0 -->\n      <g transform=\"translate(371.69375 351.757656)scale(0.1 -0.1)\">\n       <use xlink:href=\"#DejaVuSans-48\"/>\n       <use x=\"63.623047\" xlink:href=\"#DejaVuSans-46\"/>\n       <use x=\"95.410156\" xlink:href=\"#DejaVuSans-48\"/>\n      </g>\n     </g>\n    </g>\n    <g id=\"xtick_6\">\n     <g id=\"line2d_11\">\n      <path clip-path=\"url(#pee4930fe81)\" d=\"M 455.736222 337.159219 \nL 455.736222 10.999219 \n\" style=\"fill:none;stroke:#b0b0b0;stroke-linecap:square;stroke-width:0.8;\"/>\n     </g>\n     <g id=\"line2d_12\">\n      <g>\n       <use style=\"stroke:#000000;stroke-width:0.8;\" x=\"455.736222\" xlink:href=\"#m8e1b5c4c23\" y=\"337.159219\"/>\n      </g>\n     </g>\n     <g id=\"text_6\">\n      <!-- 2.5 -->\n      <g transform=\"translate(447.784659 351.757656)scale(0.1 -0.1)\">\n       <use xlink:href=\"#DejaVuSans-50\"/>\n       <use x=\"63.623047\" xlink:href=\"#DejaVuSans-46\"/>\n       <use x=\"95.410156\" xlink:href=\"#DejaVuSans-53\"/>\n      </g>\n     </g>\n    </g>\n    <g id=\"xtick_7\">\n     <g id=\"line2d_13\">\n      <path clip-path=\"url(#pee4930fe81)\" d=\"M 531.827131 337.159219 \nL 531.827131 10.999219 \n\" style=\"fill:none;stroke:#b0b0b0;stroke-linecap:square;stroke-width:0.8;\"/>\n     </g>\n     <g id=\"line2d_14\">\n      <g>\n       <use style=\"stroke:#000000;stroke-width:0.8;\" x=\"531.827131\" xlink:href=\"#m8e1b5c4c23\" y=\"337.159219\"/>\n      </g>\n     </g>\n     <g id=\"text_7\">\n      <!-- 5.0 -->\n      <g transform=\"translate(523.875568 351.757656)scale(0.1 -0.1)\">\n       <use xlink:href=\"#DejaVuSans-53\"/>\n       <use x=\"63.623047\" xlink:href=\"#DejaVuSans-46\"/>\n       <use x=\"95.410156\" xlink:href=\"#DejaVuSans-48\"/>\n      </g>\n     </g>\n    </g>\n    <g id=\"xtick_8\">\n     <g id=\"line2d_15\">\n      <path clip-path=\"url(#pee4930fe81)\" d=\"M 607.91804 337.159219 \nL 607.91804 10.999219 \n\" style=\"fill:none;stroke:#b0b0b0;stroke-linecap:square;stroke-width:0.8;\"/>\n     </g>\n     <g id=\"line2d_16\">\n      <g>\n       <use style=\"stroke:#000000;stroke-width:0.8;\" x=\"607.91804\" xlink:href=\"#m8e1b5c4c23\" y=\"337.159219\"/>\n      </g>\n     </g>\n     <g id=\"text_8\">\n      <!-- 7.5 -->\n      <g transform=\"translate(599.966477 351.757656)scale(0.1 -0.1)\">\n       <use xlink:href=\"#DejaVuSans-55\"/>\n       <use x=\"63.623047\" xlink:href=\"#DejaVuSans-46\"/>\n       <use x=\"95.410156\" xlink:href=\"#DejaVuSans-53\"/>\n      </g>\n     </g>\n    </g>\n    <g id=\"xtick_9\">\n     <g id=\"line2d_17\">\n      <path clip-path=\"url(#pee4930fe81)\" d=\"M 684.008949 337.159219 \nL 684.008949 10.999219 \n\" style=\"fill:none;stroke:#b0b0b0;stroke-linecap:square;stroke-width:0.8;\"/>\n     </g>\n     <g id=\"line2d_18\">\n      <g>\n       <use style=\"stroke:#000000;stroke-width:0.8;\" x=\"684.008949\" xlink:href=\"#m8e1b5c4c23\" y=\"337.159219\"/>\n      </g>\n     </g>\n     <g id=\"text_9\">\n      <!-- 10.0 -->\n      <g transform=\"translate(672.876136 351.757656)scale(0.1 -0.1)\">\n       <use xlink:href=\"#DejaVuSans-49\"/>\n       <use x=\"63.623047\" xlink:href=\"#DejaVuSans-48\"/>\n       <use x=\"127.246094\" xlink:href=\"#DejaVuSans-46\"/>\n       <use x=\"159.033203\" xlink:href=\"#DejaVuSans-48\"/>\n      </g>\n     </g>\n    </g>\n   </g>\n   <g id=\"matplotlib.axis_2\">\n    <g id=\"ytick_1\">\n     <g id=\"line2d_19\">\n      <path clip-path=\"url(#pee4930fe81)\" d=\"M 44.845313 337.159219 \nL 714.445312 337.159219 \n\" style=\"fill:none;stroke:#b0b0b0;stroke-linecap:square;stroke-width:0.8;\"/>\n     </g>\n     <g id=\"line2d_20\">\n      <defs>\n       <path d=\"M 0 0 \nL -3.5 0 \n\" id=\"mc635a44de3\" style=\"stroke:#000000;stroke-width:0.8;\"/>\n      </defs>\n      <g>\n       <use style=\"stroke:#000000;stroke-width:0.8;\" x=\"44.845313\" xlink:href=\"#mc635a44de3\" y=\"337.159219\"/>\n      </g>\n     </g>\n     <g id=\"text_10\">\n      <!-- −0.50 -->\n      <g transform=\"translate(7.2 340.958438)scale(0.1 -0.1)\">\n       <use xlink:href=\"#DejaVuSans-8722\"/>\n       <use x=\"83.789062\" xlink:href=\"#DejaVuSans-48\"/>\n       <use x=\"147.412109\" xlink:href=\"#DejaVuSans-46\"/>\n       <use x=\"179.199219\" xlink:href=\"#DejaVuSans-53\"/>\n       <use x=\"242.822266\" xlink:href=\"#DejaVuSans-48\"/>\n      </g>\n     </g>\n    </g>\n    <g id=\"ytick_2\">\n     <g id=\"line2d_21\">\n      <path clip-path=\"url(#pee4930fe81)\" d=\"M 44.845313 296.389219 \nL 714.445312 296.389219 \n\" style=\"fill:none;stroke:#b0b0b0;stroke-linecap:square;stroke-width:0.8;\"/>\n     </g>\n     <g id=\"line2d_22\">\n      <g>\n       <use style=\"stroke:#000000;stroke-width:0.8;\" x=\"44.845313\" xlink:href=\"#mc635a44de3\" y=\"296.389219\"/>\n      </g>\n     </g>\n     <g id=\"text_11\">\n      <!-- −0.25 -->\n      <g transform=\"translate(7.2 300.188438)scale(0.1 -0.1)\">\n       <use xlink:href=\"#DejaVuSans-8722\"/>\n       <use x=\"83.789062\" xlink:href=\"#DejaVuSans-48\"/>\n       <use x=\"147.412109\" xlink:href=\"#DejaVuSans-46\"/>\n       <use x=\"179.199219\" xlink:href=\"#DejaVuSans-50\"/>\n       <use x=\"242.822266\" xlink:href=\"#DejaVuSans-53\"/>\n      </g>\n     </g>\n    </g>\n    <g id=\"ytick_3\">\n     <g id=\"line2d_23\">\n      <path clip-path=\"url(#pee4930fe81)\" d=\"M 44.845313 255.619219 \nL 714.445312 255.619219 \n\" style=\"fill:none;stroke:#b0b0b0;stroke-linecap:square;stroke-width:0.8;\"/>\n     </g>\n     <g id=\"line2d_24\">\n      <g>\n       <use style=\"stroke:#000000;stroke-width:0.8;\" x=\"44.845313\" xlink:href=\"#mc635a44de3\" y=\"255.619219\"/>\n      </g>\n     </g>\n     <g id=\"text_12\">\n      <!-- 0.00 -->\n      <g transform=\"translate(15.579688 259.418438)scale(0.1 -0.1)\">\n       <use xlink:href=\"#DejaVuSans-48\"/>\n       <use x=\"63.623047\" xlink:href=\"#DejaVuSans-46\"/>\n       <use x=\"95.410156\" xlink:href=\"#DejaVuSans-48\"/>\n       <use x=\"159.033203\" xlink:href=\"#DejaVuSans-48\"/>\n      </g>\n     </g>\n    </g>\n    <g id=\"ytick_4\">\n     <g id=\"line2d_25\">\n      <path clip-path=\"url(#pee4930fe81)\" d=\"M 44.845313 214.849219 \nL 714.445312 214.849219 \n\" style=\"fill:none;stroke:#b0b0b0;stroke-linecap:square;stroke-width:0.8;\"/>\n     </g>\n     <g id=\"line2d_26\">\n      <g>\n       <use style=\"stroke:#000000;stroke-width:0.8;\" x=\"44.845313\" xlink:href=\"#mc635a44de3\" y=\"214.849219\"/>\n      </g>\n     </g>\n     <g id=\"text_13\">\n      <!-- 0.25 -->\n      <g transform=\"translate(15.579688 218.648438)scale(0.1 -0.1)\">\n       <use xlink:href=\"#DejaVuSans-48\"/>\n       <use x=\"63.623047\" xlink:href=\"#DejaVuSans-46\"/>\n       <use x=\"95.410156\" xlink:href=\"#DejaVuSans-50\"/>\n       <use x=\"159.033203\" xlink:href=\"#DejaVuSans-53\"/>\n      </g>\n     </g>\n    </g>\n    <g id=\"ytick_5\">\n     <g id=\"line2d_27\">\n      <path clip-path=\"url(#pee4930fe81)\" d=\"M 44.845313 174.079219 \nL 714.445312 174.079219 \n\" style=\"fill:none;stroke:#b0b0b0;stroke-linecap:square;stroke-width:0.8;\"/>\n     </g>\n     <g id=\"line2d_28\">\n      <g>\n       <use style=\"stroke:#000000;stroke-width:0.8;\" x=\"44.845313\" xlink:href=\"#mc635a44de3\" y=\"174.079219\"/>\n      </g>\n     </g>\n     <g id=\"text_14\">\n      <!-- 0.50 -->\n      <g transform=\"translate(15.579688 177.878438)scale(0.1 -0.1)\">\n       <use xlink:href=\"#DejaVuSans-48\"/>\n       <use x=\"63.623047\" xlink:href=\"#DejaVuSans-46\"/>\n       <use x=\"95.410156\" xlink:href=\"#DejaVuSans-53\"/>\n       <use x=\"159.033203\" xlink:href=\"#DejaVuSans-48\"/>\n      </g>\n     </g>\n    </g>\n    <g id=\"ytick_6\">\n     <g id=\"line2d_29\">\n      <path clip-path=\"url(#pee4930fe81)\" d=\"M 44.845313 133.309219 \nL 714.445312 133.309219 \n\" style=\"fill:none;stroke:#b0b0b0;stroke-linecap:square;stroke-width:0.8;\"/>\n     </g>\n     <g id=\"line2d_30\">\n      <g>\n       <use style=\"stroke:#000000;stroke-width:0.8;\" x=\"44.845313\" xlink:href=\"#mc635a44de3\" y=\"133.309219\"/>\n      </g>\n     </g>\n     <g id=\"text_15\">\n      <!-- 0.75 -->\n      <g transform=\"translate(15.579688 137.108438)scale(0.1 -0.1)\">\n       <use xlink:href=\"#DejaVuSans-48\"/>\n       <use x=\"63.623047\" xlink:href=\"#DejaVuSans-46\"/>\n       <use x=\"95.410156\" xlink:href=\"#DejaVuSans-55\"/>\n       <use x=\"159.033203\" xlink:href=\"#DejaVuSans-53\"/>\n      </g>\n     </g>\n    </g>\n    <g id=\"ytick_7\">\n     <g id=\"line2d_31\">\n      <path clip-path=\"url(#pee4930fe81)\" d=\"M 44.845313 92.539219 \nL 714.445312 92.539219 \n\" style=\"fill:none;stroke:#b0b0b0;stroke-linecap:square;stroke-width:0.8;\"/>\n     </g>\n     <g id=\"line2d_32\">\n      <g>\n       <use style=\"stroke:#000000;stroke-width:0.8;\" x=\"44.845313\" xlink:href=\"#mc635a44de3\" y=\"92.539219\"/>\n      </g>\n     </g>\n     <g id=\"text_16\">\n      <!-- 1.00 -->\n      <g transform=\"translate(15.579688 96.338438)scale(0.1 -0.1)\">\n       <use xlink:href=\"#DejaVuSans-49\"/>\n       <use x=\"63.623047\" xlink:href=\"#DejaVuSans-46\"/>\n       <use x=\"95.410156\" xlink:href=\"#DejaVuSans-48\"/>\n       <use x=\"159.033203\" xlink:href=\"#DejaVuSans-48\"/>\n      </g>\n     </g>\n    </g>\n    <g id=\"ytick_8\">\n     <g id=\"line2d_33\">\n      <path clip-path=\"url(#pee4930fe81)\" d=\"M 44.845313 51.769219 \nL 714.445312 51.769219 \n\" style=\"fill:none;stroke:#b0b0b0;stroke-linecap:square;stroke-width:0.8;\"/>\n     </g>\n     <g id=\"line2d_34\">\n      <g>\n       <use style=\"stroke:#000000;stroke-width:0.8;\" x=\"44.845313\" xlink:href=\"#mc635a44de3\" y=\"51.769219\"/>\n      </g>\n     </g>\n     <g id=\"text_17\">\n      <!-- 1.25 -->\n      <g transform=\"translate(15.579688 55.568438)scale(0.1 -0.1)\">\n       <use xlink:href=\"#DejaVuSans-49\"/>\n       <use x=\"63.623047\" xlink:href=\"#DejaVuSans-46\"/>\n       <use x=\"95.410156\" xlink:href=\"#DejaVuSans-50\"/>\n       <use x=\"159.033203\" xlink:href=\"#DejaVuSans-53\"/>\n      </g>\n     </g>\n    </g>\n    <g id=\"ytick_9\">\n     <g id=\"line2d_35\">\n      <path clip-path=\"url(#pee4930fe81)\" d=\"M 44.845313 10.999219 \nL 714.445312 10.999219 \n\" style=\"fill:none;stroke:#b0b0b0;stroke-linecap:square;stroke-width:0.8;\"/>\n     </g>\n     <g id=\"line2d_36\">\n      <g>\n       <use style=\"stroke:#000000;stroke-width:0.8;\" x=\"44.845313\" xlink:href=\"#mc635a44de3\" y=\"10.999219\"/>\n      </g>\n     </g>\n     <g id=\"text_18\">\n      <!-- 1.50 -->\n      <g transform=\"translate(15.579688 14.798438)scale(0.1 -0.1)\">\n       <use xlink:href=\"#DejaVuSans-49\"/>\n       <use x=\"63.623047\" xlink:href=\"#DejaVuSans-46\"/>\n       <use x=\"95.410156\" xlink:href=\"#DejaVuSans-53\"/>\n       <use x=\"159.033203\" xlink:href=\"#DejaVuSans-48\"/>\n      </g>\n     </g>\n    </g>\n   </g>\n   <g id=\"line2d_37\">\n    <path clip-path=\"url(#pee4930fe81)\" d=\"M 75.281676 255.611815 \nL 81.43045 255.610158 \nL 87.579195 255.60813 \nL 93.727969 255.605647 \nL 99.876713 255.602609 \nL 106.025487 255.598891 \nL 112.174232 255.594341 \nL 118.323006 255.588773 \nL 124.471751 255.581958 \nL 130.620524 255.573619 \nL 136.769284 255.563414 \nL 142.918043 255.550926 \nL 149.066802 255.535645 \nL 155.215562 255.516947 \nL 161.364321 255.494069 \nL 167.51308 255.466078 \nL 173.66184 255.431833 \nL 179.810599 255.389941 \nL 185.959358 255.338701 \nL 192.108117 255.276033 \nL 198.256877 255.1994 \nL 204.405636 255.10571 \nL 210.55441 254.991192 \nL 216.703169 254.851256 \nL 222.851928 254.68032 \nL 229.000688 254.471606 \nL 235.149447 254.216896 \nL 241.298206 253.906252 \nL 247.446966 253.527683 \nL 253.595725 253.066775 \nL 259.744484 252.50626 \nL 265.893244 251.825565 \nL 272.04201 251.000322 \nL 278.190769 250.001896 \nL 284.339529 248.796939 \nL 290.488288 247.34709 \nL 296.637047 245.608861 \nL 302.785807 243.533893 \nL 308.934566 241.069701 \nL 315.083333 238.161155 \nL 321.232088 234.752856 \nL 327.380851 230.792599 \nL 333.52961 226.236019 \nL 339.67837 221.05224 \nL 345.827129 215.230204 \nL 351.97589 208.784946 \nL 358.124651 201.762633 \nL 364.273412 194.243324 \nL 370.422172 186.340083 \nL 376.570932 178.193901 \nL 382.719693 169.964537 \nL 388.868453 161.81835 \nL 395.017213 153.915113 \nL 401.165974 146.39581 \nL 407.314735 139.373497 \nL 413.463496 132.928231 \nL 419.612255 127.106193 \nL 425.761015 121.922412 \nL 431.909774 117.365834 \nL 438.058537 113.405579 \nL 444.207292 109.997293 \nL 450.356059 107.088738 \nL 456.504818 104.624538 \nL 462.653578 102.54957 \nL 468.802337 100.811352 \nL 474.951096 99.361497 \nL 481.099856 98.156537 \nL 487.248615 97.158113 \nL 493.397381 96.332877 \nL 499.546141 95.652172 \nL 505.6949 95.091669 \nL 511.843659 94.630751 \nL 517.992419 94.252183 \nL 524.141178 93.941541 \nL 530.289937 93.68683 \nL 536.438697 93.478115 \nL 542.587456 93.307183 \nL 548.736215 93.167249 \nL 554.884989 93.052734 \nL 561.033748 92.959049 \nL 567.182508 92.882405 \nL 573.331267 92.819728 \nL 579.480026 92.768492 \nL 585.628785 92.726607 \nL 591.777545 92.692362 \nL 597.926304 92.664358 \nL 604.075063 92.641486 \nL 610.223823 92.622794 \nL 616.372582 92.607504 \nL 622.521341 92.595013 \nL 628.670101 92.584817 \nL 634.818874 92.576477 \nL 640.967619 92.569653 \nL 647.116393 92.564103 \nL 653.265138 92.559554 \nL 659.413912 92.555821 \nL 665.562656 92.552788 \nL 671.71143 92.5503 \nL 677.860175 92.548278 \nL 684.008949 92.546626 \n\" style=\"fill:none;stroke:#1f77b4;stroke-linecap:square;stroke-width:1.5;\"/>\n   </g>\n   <g id=\"line2d_38\">\n    <path clip-path=\"url(#pee4930fe81)\" d=\"M 44.845313 255.619219 \nL 714.445312 255.619219 \n\" style=\"fill:none;stroke:#000000;stroke-linecap:square;stroke-width:1.5;\"/>\n   </g>\n   <g id=\"line2d_39\">\n    <path clip-path=\"url(#pee4930fe81)\" d=\"M 379.645313 337.159219 \nL 379.645313 10.999219 \n\" style=\"fill:none;stroke:#000000;stroke-linecap:square;stroke-width:1.5;\"/>\n   </g>\n   <g id=\"patch_3\">\n    <path d=\"M 44.845313 337.159219 \nL 44.845313 10.999219 \n\" style=\"fill:none;stroke:#000000;stroke-linecap:square;stroke-linejoin:miter;stroke-width:0.8;\"/>\n   </g>\n   <g id=\"patch_4\">\n    <path d=\"M 714.445312 337.159219 \nL 714.445312 10.999219 \n\" style=\"fill:none;stroke:#000000;stroke-linecap:square;stroke-linejoin:miter;stroke-width:0.8;\"/>\n   </g>\n   <g id=\"patch_5\">\n    <path d=\"M 44.845313 337.159219 \nL 714.445312 337.159219 \n\" style=\"fill:none;stroke:#000000;stroke-linecap:square;stroke-linejoin:miter;stroke-width:0.8;\"/>\n   </g>\n   <g id=\"patch_6\">\n    <path d=\"M 44.845313 10.999219 \nL 714.445312 10.999219 \n\" style=\"fill:none;stroke:#000000;stroke-linecap:square;stroke-linejoin:miter;stroke-width:0.8;\"/>\n   </g>\n  </g>\n </g>\n <defs>\n  <clipPath id=\"pee4930fe81\">\n   <rect height=\"326.16\" width=\"669.6\" x=\"44.845313\" y=\"10.999219\"/>\n  </clipPath>\n </defs>\n</svg>\n",
      "image/png": "[encoded data removed]"
     },
     "metadata": {
      "needs_background": "light"
     }
    }
   ],
   "source": [
    "# Plot the sigmoid function\n",
    "vals = np.linspace(-10, 10, num=100, dtype=np.float32)\n",
    "activation = sigmoid(vals)\n",
    "fig = plt.figure(figsize=(12,6))\n",
    "plt.plot(vals, activation)\n",
    "plt.grid(True, which='both')\n",
    "plt.axhline(y=0, color='k')\n",
    "plt.axvline(x=0, color='k')\n",
    "plt.yticks()\n",
    "plt.ylim([-0.5, 1.5]);"
   ]
  },
  {
   "cell_type": "markdown",
   "metadata": {},
   "source": [
    "### Conceptualizando las neuronas como compuertas lógicas\n",
    "\n",
    "Una compuerta lógica toma dos valores booleanos (verdadero/falso o 1/0) como entrada y regresa 0 o 1 dependiendo de sus reglas. La tabla de verdad de una compuerta lógica muestra las salidas para cada combinación de entradas, (0, 0), (0, 1), (1,0), and (1, 1). Por ejemplo, veamos la tabla de verdad de la compuerta \"OR\":\n",
    "\n",
    "### Compuerta OR\n",
    "\n",
    "<table>\n",
    "\n",
    "<tr>\n",
    "<th colspan=\"3\">Tabla de verdad compuerta OR</th>\n",
    "</tr>\n",
    "\n",
    "<tr>\n",
    "<th colspan=\"2\">Input</th>\n",
    "<th>Output</th>\n",
    "</tr>\n",
    "\n",
    "<tr>\n",
    "<td>0</td>\n",
    "<td>0</td>\n",
    "<td>0</td>\n",
    "</tr>\n",
    "\n",
    "<tr>\n",
    "<td>0</td>\n",
    "<td>1</td>\n",
    "<td>1</td>\n",
    "</tr>\n",
    "\n",
    "<tr>\n",
    "<td>1</td>\n",
    "<td>0</td>\n",
    "<td>1</td>\n",
    "</tr>\n",
    "\n",
    "<tr>\n",
    "<td>1</td>\n",
    "<td>1</td>\n",
    "<td>1</td>\n",
    "</tr>\n",
    "\n",
    "</table>\n",
    "\n",
    "Una compuerta que usa la función de activaciónn sigmoidal, produce un valor entre (0, 1). Esto nos lleva naturalmente a pensar respecto a valores booleanos. Imagina que una neurona recibe dos entradas $x_1$ and $x_2$ y un término bias:\n",
    "\n",
    "![](images/logic01.png)\n",
    "\n",
    "Al limitar las entradas de $x_1$ y $x_2$ a estar en $\\left\\{0, 1\\right\\}$, podemos simular el efecto de compuertas lógicas con nuestra neurona. La meta es encontrar los pesos (representados por símbolos ? arriba), de tal forma que regresen una salida cercana a 0 o 1 dependiendo de sus entradas.\n",
    "\n",
    "¿Qué valores deben tener los pesos para que esta compuerta genere la salidas del operador OR? Recuerda $\\sigma(z)$ es cercano a 0 cuando $z$ es un número negativo (cerca de -10 o menos), y es cercano a 1 cuando $z$ es un número positivo (cerca de +10 o más).\n",
    "\n",
    "$$\n",
    "z = w_1 x_1 + w_2 x_2 + b\n",
    "$$\n",
    "\n",
    "Analicemos:\n",
    "\n",
    "* Cuando $x_1$ y $x_2$ tienen el valor 0, el único valor que afecta a $z$ es $b$. Dado que queremos que el resultado de (0, 0) esté cercano a 0, $b$ debe ser negativo (al menos -10)\n",
    "* Si $x_1$ o $x_2$ es 1, queremos que la salida esté cercana a 1. Esto significa que los pesos asociados a $x_1$ y $x_2$ deben ser suficientes para contrarrestar $b$ al punto de causar que $z$ sea por lo menos 10.\n",
    "* Asignemos a $b$ un valor de -10. ¿Qué tan grandes deben ser $w_1$ and $w_2$?\n",
    "    * Por lo menos +20\n",
    "* Intentemos $w_1=20$, $w_2=20$, y $b=-10$!\n",
    "\n",
    "![](images/logic02.png)"
   ]
  },
  {
   "cell_type": "code",
   "execution_count": 39,
   "metadata": {},
   "outputs": [],
   "source": [
    "def logic_gate(w1, w2, b):\n",
    "    # Helper to create logic gate functions\n",
    "    # Plug in values for weight_a, weight_b, and bias\n",
    "    return lambda x1, x2: sigmoid(w1 * x1 + w2 * x2 + b)\n",
    "\n",
    "def test(gate):\n",
    "    # Helper function to test out our weight functions.\n",
    "    for a, b in (0, 0), (0, 1), (1, 0), (1, 1):\n",
    "        print(\"{}, {}: {}\".format(a, b, np.round(gate(a, b))))"
   ]
  },
  {
   "cell_type": "code",
   "execution_count": 40,
   "metadata": {
    "tags": []
   },
   "outputs": [
    {
     "output_type": "stream",
     "name": "stdout",
     "text": "0, 0: 0.0\n0, 1: 1.0\n1, 0: 1.0\n1, 1: 1.0\n"
    }
   ],
   "source": [
    "or_gate = logic_gate(20, 20, -10)\n",
    "test(or_gate)"
   ]
  },
  {
   "cell_type": "markdown",
   "metadata": {},
   "source": [
    "<table>\n",
    "\n",
    "<tr>\n",
    "<th colspan=\"3\">tabla de verdad OR</th>\n",
    "</tr>\n",
    "\n",
    "<tr>\n",
    "<th colspan=\"2\">Input</th>\n",
    "<th>Output</th>\n",
    "</tr>\n",
    "\n",
    "<tr>\n",
    "<td>0</td>\n",
    "<td>0</td>\n",
    "<td>0</td>\n",
    "</tr>\n",
    "\n",
    "<tr>\n",
    "<td>0</td>\n",
    "<td>1</td>\n",
    "<td>1</td>\n",
    "</tr>\n",
    "\n",
    "<tr>\n",
    "<td>1</td>\n",
    "<td>0</td>\n",
    "<td>1</td>\n",
    "</tr>\n",
    "\n",
    "<tr>\n",
    "<td>1</td>\n",
    "<td>1</td>\n",
    "<td>1</td>\n",
    "</tr>\n",
    "\n",
    "</table>\n",
    "\n",
    "¡Eso corresponde, excelente! Ahora trata de encontrar los valores apropiados de los pesos para cada tabla de verdad. Evitar usar el método de prueba y error. Piensa de forma lógica y trata de derivar valores que funcionen. \n",
    "\n",
    "### Compuerta AND\n",
    "\n",
    "<table>\n",
    "\n",
    "<tr>\n",
    "<th colspan=\"3\">Tabla de verdad compuerta AND</th>\n",
    "</tr>\n",
    "\n",
    "<tr>\n",
    "<th colspan=\"2\">Input</th>\n",
    "<th>Output</th>\n",
    "</tr>\n",
    "\n",
    "<tr>\n",
    "<td>0</td>\n",
    "<td>0</td>\n",
    "<td>0</td>\n",
    "</tr>\n",
    "\n",
    "<tr>\n",
    "<td>0</td>\n",
    "<td>1</td>\n",
    "<td>0</td>\n",
    "</tr>\n",
    "\n",
    "<tr>\n",
    "<td>1</td>\n",
    "<td>0</td>\n",
    "<td>0</td>\n",
    "</tr>\n",
    "\n",
    "<tr>\n",
    "<td>1</td>\n",
    "<td>1</td>\n",
    "<td>1</td>\n",
    "</tr>\n",
    "\n",
    "</table>"
   ]
  },
  {
   "cell_type": "markdown",
   "metadata": {},
   "source": [
    "## Ejercicio\n",
    "Determina los valores para las neuronas que harán a esta función una compuerta AND. Valores cercanos a 15 podrían funcionar bien."
   ]
  },
  {
   "cell_type": "code",
   "execution_count": 41,
   "metadata": {
    "tags": []
   },
   "outputs": [
    {
     "output_type": "stream",
     "name": "stdout",
     "text": "0, 0: 0.0\n0, 1: 0.0\n1, 0: 0.0\n1, 1: 0.0\n"
    }
   ],
   "source": [
    "# TO DO: Fill in the w1, w2, and b parameters such that the truth table matches\n",
    "and_gate = logic_gate(0,0,0)\n",
    "#and_gate = logic_gate(-20, 15,-15) -> IP!\n",
    "\n",
    "test(and_gate)"
   ]
  },
  {
   "cell_type": "markdown",
   "metadata": {},
   "source": [
    "## Ejercicio\n",
    "Realiza el mismo procedimiento para calcular los valores de los pesos de las compuertas NOR y NAND."
   ]
  },
  {
   "cell_type": "markdown",
   "metadata": {},
   "source": [
    "### Compuerta NOR (Not Or)\n",
    "\n",
    "<table>\n",
    "\n",
    "<tr>\n",
    "<th colspan=\"3\">Tabla de verdad compuerta NOR</th>\n",
    "</tr>\n",
    "\n",
    "<tr>\n",
    "<th colspan=\"2\">Input</th>\n",
    "<th>Output</th>\n",
    "</tr>\n",
    "\n",
    "<tr>\n",
    "<td>0</td>\n",
    "<td>0</td>\n",
    "<td>1</td>\n",
    "</tr>\n",
    "\n",
    "<tr>\n",
    "<td>0</td>\n",
    "<td>1</td>\n",
    "<td>0</td>\n",
    "</tr>\n",
    "\n",
    "<tr>\n",
    "<td>1</td>\n",
    "<td>0</td>\n",
    "<td>0</td>\n",
    "</tr>\n",
    "\n",
    "<tr>\n",
    "<td>1</td>\n",
    "<td>1</td>\n",
    "<td>0</td>\n",
    "</tr>\n",
    "\n",
    "</table>"
   ]
  },
  {
   "cell_type": "code",
   "execution_count": 42,
   "metadata": {
    "tags": []
   },
   "outputs": [
    {
     "output_type": "stream",
     "name": "stdout",
     "text": "0, 0: 0.0\n0, 1: 0.0\n1, 0: 0.0\n1, 1: 0.0\n"
    }
   ],
   "source": [
    "# TO DO: Fill in the w1, w2, and b parameters such that the truth table matches\n",
    "#nor_gate = logic_gate(0, 0, 0)\n",
    "nor_gate = logic_gate(0, 0, 0)\n",
    "\n",
    "#nor_gate = logic_gate(10, -20, -20) -> IP!\n",
    "test(nor_gate)"
   ]
  },
  {
   "cell_type": "markdown",
   "metadata": {},
   "source": [
    "### Compuerta NAND (Not And)\n",
    "\n",
    "<table>\n",
    "\n",
    "<tr>\n",
    "<th colspan=\"3\">Tabla de verdad compuerta NAND</th>\n",
    "</tr>\n",
    "\n",
    "<tr>\n",
    "<th colspan=\"2\">Input</th>\n",
    "<th>Output</th>\n",
    "</tr>\n",
    "\n",
    "<tr>\n",
    "<td>0</td>\n",
    "<td>0</td>\n",
    "<td>1</td>\n",
    "</tr>\n",
    "\n",
    "<tr>\n",
    "<td>0</td>\n",
    "<td>1</td>\n",
    "<td>1</td>\n",
    "</tr>\n",
    "\n",
    "<tr>\n",
    "<td>1</td>\n",
    "<td>0</td>\n",
    "<td>1</td>\n",
    "</tr>\n",
    "\n",
    "<tr>\n",
    "<td>1</td>\n",
    "<td>1</td>\n",
    "<td>0</td>\n",
    "</tr>\n",
    "\n",
    "</table>"
   ]
  },
  {
   "cell_type": "code",
   "execution_count": 43,
   "metadata": {
    "tags": []
   },
   "outputs": [
    {
     "output_type": "stream",
     "name": "stdout",
     "text": "0, 0: 0.0\n0, 1: 0.0\n1, 0: 0.0\n1, 1: 0.0\n"
    }
   ],
   "source": [
    "# TO DO: Fill in the w1, w2, and b parameters such that the truth table matches\n",
    "#nand_gate = logic_gate(0, 0, 0)\n",
    "nand_gate = logic_gate(0, 0, 0)\n",
    "\n",
    "#nand_gate = logic_gate(20, -15, -15) -> IP!\n",
    "test(nand_gate)"
   ]
  },
  {
   "cell_type": "markdown",
   "metadata": {},
   "source": [
    "## Los límites de neuronas sencillas\n",
    "\n",
    "Las compuertas XOR son la base del cómputo. Se emplean como \"half-adders\" para poder sumar números. A continuación la tabla de verdad de XOR.\n",
    "\n",
    "### Compuerta XOR (Exclusive Or)\n",
    "\n",
    "<table>\n",
    "\n",
    "<tr>\n",
    "<th colspan=\"3\">Tabla de verdad compuerta XOR</th>\n",
    "</tr>\n",
    "\n",
    "<tr>\n",
    "<th colspan=\"2\">Input</th>\n",
    "<th>Output</th>\n",
    "</tr>\n",
    "\n",
    "<tr>\n",
    "<td>0</td>\n",
    "<td>0</td>\n",
    "<td>0</td>\n",
    "</tr>\n",
    "\n",
    "<tr>\n",
    "<td>0</td>\n",
    "<td>1</td>\n",
    "<td>1</td>\n",
    "</tr>\n",
    "\n",
    "<tr>\n",
    "<td>1</td>\n",
    "<td>0</td>\n",
    "<td>1</td>\n",
    "</tr>\n",
    "\n",
    "<tr>\n",
    "<td>1</td>\n",
    "<td>1</td>\n",
    "<td>0</td>\n",
    "</tr>\n",
    "\n",
    "</table>\n",
    "\n",
    "¿Es posible definir un conjunto de pesos para definir el operador XOR con una sola neurona?\n",
    "\n",
    "En realidad no es posible. Una sola neurona no puede correlacionar las entradas. ¿Será posible usar el modelo de cómputo neuronal para formar una compuerta XOR?\n",
    "\n",
    "Podríamos intentar algo más complejo:\n",
    "\n",
    "![](images/logic03.png)\n",
    "\n",
    "Aquí,, tenemos entradas que van a dos compuertas separadas: la neurona superior es una compuerta OR, y la inferior es una compuerta NAND. La salida de estas compuertas se pasan a otra neurona que es AND. Si trabajas las salidas de cada combinación de entradas verás que es una compuerta XOR.\n"
   ]
  },
  {
   "cell_type": "code",
   "execution_count": 44,
   "metadata": {
    "tags": []
   },
   "outputs": [
    {
     "output_type": "stream",
     "name": "stdout",
     "text": "0, 0: 0.0\n0, 1: 0.0\n1, 0: 0.0\n1, 1: 0.0\n"
    }
   ],
   "source": [
    "# Make sure you have or_gate, nand_gate, and and_gate working from above!\n",
    "\n",
    "def xor_gate(a, b):\n",
    "    c = or_gate(a, b)\n",
    "    d = nand_gate(a, b)\n",
    "    return and_gate(c, d)\n",
    "test(xor_gate)"
   ]
  },
  {
   "cell_type": "code",
   "execution_count": 45,
   "metadata": {
    "tags": []
   },
   "outputs": [
    {
     "output_type": "stream",
     "name": "stdout",
     "text": "0, 0: 0.0\n0, 1: 0.0\n1, 0: 0.0\n1, 1: 0.0\n"
    }
   ],
   "source": [
    "test(xor_gate)"
   ]
  },
  {
   "cell_type": "markdown",
   "metadata": {},
   "source": [
    "## Redes Feedforward Networks como cómputo matricial\n",
    "\n",
    "El cómputo feed-forward de una red neuronal puede ser considerado cálcula de matrices y funciones de activación. Haremos algunos cálculos con matrices para ver esto en la práctica.\n",
    "\n",
    "![](images/FF_NN.png)\n",
    "\n"
   ]
  },
  {
   "cell_type": "markdown",
   "metadata": {},
   "source": [
    "## Ejercicio\n",
    "Se provee:\n",
    "\n",
    "- Tres matrices de pesos `W_1`, `W_2` and `W_3` representando los pesos de cada capa.  La convención en estas matrices $W_{i,j}$ es que el peso de la neurona $i$ en la capa anterior (izquierda) a la neurona $j$ en la siguiente capa (derecha).  \n",
    "- Un vector `x_in` que representa una sola entrada y una matriz `x_mat_in` que representa 7 entradas distintas.\n",
    "- Dos funciones: `soft_max_vec` y `soft_max_mat` que aplican la función soft_max function a un solo vector o a una matriz, por renglón.\n",
    "\n",
    "Las metas de este ejercicio son:\n",
    "1. Para la entrada `x_in` calcular las entradas y salidas de cada capa (asumiendo funciones de activación sigmoidal para las dos capas intermedias y soft_max para la capa final.\n",
    "2. Escribir una función que haga el cálculo de la red neuronal completa para una sola entrada.\n",
    "3. Write a function that does the entire neural network calculation for a matrix of inputs, where each row is a single input. Escribir una función que haga el cálculo completo de la red neuronal para una matriz de entradas, donde cada renglón corresponde a uns sola entrada.\n",
    "4. Probar las funciones con `x_in` y `x_mat_in`."
   ]
  },
  {
   "cell_type": "code",
   "execution_count": 46,
   "metadata": {},
   "outputs": [],
   "source": [
    "W_1 = np.array([[2,-1,1,4],[-1,2,-3,1],[3,-2,-1,5]])"
   ]
  },
  {
   "cell_type": "code",
   "execution_count": 47,
   "metadata": {},
   "outputs": [],
   "source": [
    "W_2 = np.array([[3,1,-2,1],[-2,4,1,-4],[-1,-3,2,-5],[3,1,1,1]])"
   ]
  },
  {
   "cell_type": "code",
   "execution_count": 48,
   "metadata": {},
   "outputs": [],
   "source": [
    "W_3 = np.array([[-1,3,-2],[1,-1,-3],[3,-2,2],[1,2,1]])"
   ]
  },
  {
   "cell_type": "code",
   "execution_count": 49,
   "metadata": {},
   "outputs": [],
   "source": [
    "x_in = np.array([.5,.8,.2])"
   ]
  },
  {
   "cell_type": "code",
   "execution_count": 50,
   "metadata": {},
   "outputs": [],
   "source": [
    "x_mat_in = np.array([[.5,.8,.2],[.1,.9,.6],[.2,.2,.3],[.6,.1,.9],[.5,.5,.4],[.9,.1,.9],[.1,.8,.7]])"
   ]
  },
  {
   "cell_type": "code",
   "execution_count": 51,
   "metadata": {},
   "outputs": [],
   "source": [
    "def soft_max_vec(vec):\n",
    "    return np.exp(vec)/(np.sum(np.exp(vec)))\n",
    "\n",
    "def soft_max_mat(mat):\n",
    "    return np.exp(mat)/(np.sum(np.exp(mat),axis=1).reshape(-1,1))"
   ]
  },
  {
   "cell_type": "code",
   "execution_count": 52,
   "metadata": {},
   "outputs": [
    {
     "output_type": "execute_result",
     "data": {
      "text/plain": "array([[1.64872127, 2.22554093, 1.22140276],\n       [1.10517092, 2.45960311, 1.8221188 ],\n       [1.22140276, 1.22140276, 1.34985881],\n       [1.8221188 , 1.10517092, 2.45960311],\n       [1.64872127, 1.64872127, 1.4918247 ],\n       [2.45960311, 1.10517092, 2.45960311],\n       [1.10517092, 2.22554093, 2.01375271]])"
     },
     "metadata": {},
     "execution_count": 52
    }
   ],
   "source": [
    "np.exp(x_mat_in)"
   ]
  },
  {
   "cell_type": "code",
   "execution_count": 53,
   "metadata": {},
   "outputs": [
    {
     "output_type": "execute_result",
     "data": {
      "text/plain": "array([5.09566496, 5.38689283, 3.79266432, 5.38689283, 4.78926724,\n       6.02437714, 5.34446455])"
     },
     "metadata": {},
     "execution_count": 53
    }
   ],
   "source": [
    "np.sum(np.exp(x_mat_in),axis=1)"
   ]
  },
  {
   "cell_type": "code",
   "execution_count": 54,
   "metadata": {},
   "outputs": [
    {
     "output_type": "execute_result",
     "data": {
      "text/plain": "array([[5.09566496],\n       [5.38689283],\n       [3.79266432],\n       [5.38689283],\n       [4.78926724],\n       [6.02437714],\n       [5.34446455]])"
     },
     "metadata": {},
     "execution_count": 54
    }
   ],
   "source": [
    "np.sum(np.exp(x_mat_in),axis=1).reshape(-1,1)"
   ]
  },
  {
   "cell_type": "code",
   "execution_count": 55,
   "metadata": {},
   "outputs": [
    {
     "output_type": "execute_result",
     "data": {
      "text/plain": "array([[0.3235537 , 0.43675182, 0.23969448],\n       [0.20515925, 0.45659032, 0.33825043],\n       [0.32204346, 0.32204346, 0.35591307],\n       [0.33825043, 0.20515925, 0.45659032],\n       [0.34425335, 0.34425335, 0.31149331],\n       [0.40827509, 0.18344982, 0.40827509],\n       [0.20678796, 0.41641981, 0.37679223]])"
     },
     "metadata": {},
     "execution_count": 55
    }
   ],
   "source": [
    "np.exp(x_mat_in)/(np.sum(np.exp(x_mat_in),axis=1).reshape(-1,1))"
   ]
  },
  {
   "source": [
    "## Rutinas generales"
   ],
   "cell_type": "markdown",
   "metadata": {}
  },
  {
   "cell_type": "code",
   "execution_count": 56,
   "metadata": {},
   "outputs": [],
   "source": [
    "def createParameters(W1, W2, W3):\n",
    "    parameters = {}\n",
    "    parameters[\"W1\"] = W1\n",
    "    parameters[\"W2\"] = W2\n",
    "    parameters[\"W3\"] = W3\n",
    "    return parameters"
   ]
  },
  {
   "cell_type": "code",
   "execution_count": 57,
   "metadata": {},
   "outputs": [],
   "source": [
    "params = createParameters(W_1, W_2, W_3)"
   ]
  },
  {
   "cell_type": "markdown",
   "metadata": {},
   "source": [
    "## Intel approach"
   ]
  },
  {
   "source": [
    "Convertimos x_in de un arreglo (3,) a uno de dos dimensiones (1,3)"
   ],
   "cell_type": "markdown",
   "metadata": {}
  },
  {
   "cell_type": "code",
   "execution_count": 58,
   "metadata": {},
   "outputs": [],
   "source": [
    "x_in_intel = x_in.reshape(1,-1)"
   ]
  },
  {
   "cell_type": "code",
   "execution_count": 59,
   "metadata": {},
   "outputs": [],
   "source": [
    "def feedforward_intel(X, parameters):\n",
    "    W1,W2,W3 = parameters[\"W1\"], parameters[\"W2\"], parameters[\"W3\"]\n",
    "    Z1=None #np.dot()\n",
    "    A1=None #sigmoid()\n",
    "    Z2=None #np.dot()\n",
    "    A2=None #sigmoid()\n",
    "    Z3=None #np.dot()\n",
    "    if X.shape[1] == 1:\n",
    "        A3=None #soft_max_vec()\n",
    "    else:\n",
    "        A3=None #soft_max_mat()\n",
    "    return None"
   ]
  },
  {
   "cell_type": "code",
   "execution_count": 71,
   "metadata": {},
   "outputs": [],
   "source": [
    "x_in_intel\n",
    "W1 = params['W1']\n",
    "W1\n",
    "W2 = params['W2']\n",
    "\n",
    "Z1 = np.dot(x_in_intel, W1)\n",
    "\n",
    "Z1\n",
    "A1 = sigmoid(Z1)\n",
    "A1\n",
    "Z2 = np.dot(,W2)\n",
    "Z2\n",
    "W2\n",
    "\n",
    "A2 = None"
   ]
  },
  {
   "cell_type": "code",
   "execution_count": 61,
   "metadata": {},
   "outputs": [],
   "source": [
    "result = feedforward_intel(x_in_intel, params)\n",
    "result"
   ]
  },
  {
   "cell_type": "code",
   "execution_count": 62,
   "metadata": {},
   "outputs": [],
   "source": [
    "result_2 = feedforward_intel(x_mat_in, params)\n",
    "result_2"
   ]
  },
  {
   "cell_type": "code",
   "execution_count": 63,
   "metadata": {},
   "outputs": [],
   "source": [
    "## Student to do the calculations below"
   ]
  },
  {
   "cell_type": "markdown",
   "metadata": {},
   "source": [
    "## Andrew Ng approach"
   ]
  },
  {
   "cell_type": "markdown",
   "metadata": {},
   "source": [
    "* In the input layer each column represent the values of each cell in the neural network, precisely as it is shown in the diagram.\n",
    "* The weight matrix is of dimensions (num_cells_layer, num_inputs previous layer)\n",
    "* b is represented as a matrix (num_cells_layer, 1)\n"
   ]
  },
  {
   "cell_type": "code",
   "execution_count": 64,
   "metadata": {},
   "outputs": [],
   "source": [
    "x_in_ng = x_in.reshape(3,-1)"
   ]
  },
  {
   "cell_type": "code",
   "execution_count": 65,
   "metadata": {},
   "outputs": [],
   "source": [
    "x_mat_in_ng = x_mat_in.T"
   ]
  },
  {
   "cell_type": "markdown",
   "metadata": {
    "collapsed": true
   },
   "source": [
    "z = w.Tx + b\n",
    "\n",
    "a = sigma(z)"
   ]
  },
  {
   "cell_type": "code",
   "execution_count": 66,
   "metadata": {},
   "outputs": [],
   "source": [
    "def feedforward_ng(X, params):\n",
    "    print(\"X\", X.shape)\n",
    "    print(\"W1\",params[\"W1\"].shape)\n",
    "    print(\"W2\", params[\"W2\"].shape)\n",
    "    print(\"W3\", params[\"W3\"].shape)\n",
    "    \n",
    "    W1 = params[\"W1\"]\n",
    "    W2 = params[\"W2\"]\n",
    "    W3 = params[\"W3\"]\n",
    "    \n",
    "    Z1 = None #np.dot()\n",
    "    A1 = None #sigmoid()\n",
    "    Z2 = None #np.dot()\n",
    "    A2 = None #sigmoid()\n",
    "    Z3 = None #np.dot()\n",
    "    \n",
    "    if X.shape[1]==1:\n",
    "        A3 = None #soft_max_vec()\n",
    "    else:\n",
    "        A3 = None #soft_max_mat() #TODO: Review softmax implementation for Andrew NG representation of the Z3 matrix\n",
    "    return None"
   ]
  },
  {
   "cell_type": "code",
   "execution_count": 67,
   "metadata": {
    "tags": []
   },
   "outputs": [
    {
     "output_type": "stream",
     "name": "stdout",
     "text": "X (3, 1)\nW1 (3, 4)\nW2 (4, 4)\nW3 (4, 3)\n"
    }
   ],
   "source": [
    "result_ng = feedforward_ng(x_in_ng, params)\n",
    "result_ng\n"
   ]
  },
  {
   "cell_type": "code",
   "execution_count": 68,
   "metadata": {
    "tags": []
   },
   "outputs": [
    {
     "output_type": "stream",
     "name": "stdout",
     "text": "X (3, 7)\nW1 (3, 4)\nW2 (4, 4)\nW3 (4, 3)\n"
    }
   ],
   "source": [
    "result_ng_mat = feedforward_ng(x_mat_in_ng, params)\n",
    "result_ng_mat"
   ]
  },
  {
   "cell_type": "code",
   "execution_count": null,
   "metadata": {},
   "outputs": [],
   "source": []
  }
 ],
 "metadata": {
  "kernelspec": {
   "display_name": "Python 3",
   "language": "python",
   "name": "python3"
  }
 },
 "nbformat": 4,
 "nbformat_minor": 2
}